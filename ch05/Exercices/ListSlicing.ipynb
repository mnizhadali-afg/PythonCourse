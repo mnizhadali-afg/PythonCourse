{
 "cells": [
  {
   "cell_type": "code",
   "execution_count": null,
   "metadata": {
    "collapsed": true
   },
   "outputs": [],
   "source": [
    "numbers = list(range(1, 16))\n",
    "\n",
    "print(numbers)\n",
    "\n",
    "# Select number's even integers\n",
    "numbers[1:len(numbers):2]\n",
    "\n",
    "# Replace the elements at indices 5 through 9 with 0s,\n",
    "numbers[5:10] = [0] * len(numbers[5:10])\n",
    "numbers\n",
    "\n",
    "# Keep only the first five elements\n",
    "numbers[5:] = []\n",
    "numbers\n",
    "\n",
    "\n",
    "# Delete all the contents from the list\n",
    "numbers[:] = []"
   ]
  }
 ],
 "metadata": {
  "kernelspec": {
   "display_name": "Python 3",
   "language": "python",
   "name": "python3"
  },
  "language_info": {
   "codemirror_mode": {
    "name": "ipython",
    "version": 2
   },
   "file_extension": ".py",
   "mimetype": "text/x-python",
   "name": "python",
   "nbconvert_exporter": "python",
   "pygments_lexer": "ipython2",
   "version": "2.7.6"
  }
 },
 "nbformat": 4,
 "nbformat_minor": 0
}